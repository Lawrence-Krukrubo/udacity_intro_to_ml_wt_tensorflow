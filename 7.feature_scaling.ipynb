{
 "cells": [
  {
   "cell_type": "markdown",
   "metadata": {},
   "source": [
    "## Feature Scaling"
   ]
  },
  {
   "cell_type": "markdown",
   "metadata": {},
   "source": [
    "What is feature scaling? Feature scaling is a way of transforming your data into a common range of values. There are two common scalings:\n",
    "\n",
    "* **Standardizing**\n",
    "* **Normalizing**\n",
    "\n",
    "**Standardizing**<br>\n",
    "Standardizing is completed by taking each value of your column, subtracting the mean of the column, and then dividing by the standard deviation of the column. In Python, let's say you have a column in `df` called `height`. You could create a standardized height as:\n",
    "```\n",
    "df[\"height_standard\"] = (df[\"height\"] - df[\"height\"].mean()) / df[\"height\"].std()\n",
    "```\n",
    "This will create a new \"standardized\" column where each value is a comparison to the mean of the column, and a new, standardized value can be interpreted as the number of standard deviations the original height was from the mean. This type of feature scaling is by far the most common of all techniques \n",
    "\n",
    "**Normalizing**<br>\n",
    "A second type of feature scaling that is very popular is known as normalizing. With normalizing, data are scaled between 0 and 1. Using the same example as above, we could perform normalizing in Python in the following way:\n",
    "```\n",
    "df[\"height_normal\"] = (df[\"height\"] - df[\"height\"].min()) /     \\\n",
    "                      (df[\"height\"].max() - df['height'].min())\n",
    "```"
   ]
  },
  {
   "cell_type": "markdown",
   "metadata": {},
   "source": [
    "### When Should I Use Feature Scaling?\n",
    "In many machine learning algorithms, the result will change depending on the units of your data. This is especially true in two specific cases:\n",
    "\n",
    "* When your algorithm uses a distance-based metric to predict.\n",
    "* When you incorporate regularization.\n",
    "\n",
    "**Distance Based Metrics**<br>\n",
    "Such as supervised learning techniques based on distance points from one another like **Support Vector Machines (or SVMs)**. Another technique that involves distance based methods to determine a prediction is **k-nearest neighbors (or k-nn)**. With either of these techniques, choosing not to scale your data may lead to drastically different (and likely misleading) ending predictions.\n",
    "\n",
    "For this reason, choosing some sort of feature scaling is necessary with these distance based techniques.\n",
    "\n",
    "**Regularization**<br>\n",
    "When you start introducing regularization, you will again want to scale the features of your model. The penalty on particular coefficients in regularized linear regression techniques depends largely on the scale associated with the features. When one feature is on a small range, say from 0 to 10, and another is on a large range, say from 0 to 1 000 000, applying regularization is going to unfairly punish the feature with the small range. Features with small ranges need to have larger coefficients compared to features with large ranges in order to have the same effect on the outcome of the data. (Think about how $ab$ = $ba$ for two numbers $a$ and $b$.) Therefore, if regularization could remove one of those two features with the same net increase in error, it would rather remove the small-ranged feature with the large coefficient, since that would reduce the regularization term the most.\n",
    "\n",
    "Again, this means you will want to scale features any time you are applying regularization.\n",
    "\n",
    "Note that feature scaling can speed up convergence of your machine learning algorithms, which is an important consideration when you scale machine learning applications."
   ]
  },
  {
   "cell_type": "code",
   "execution_count": 11,
   "metadata": {},
   "outputs": [],
   "source": [
    "import numpy as np\n",
    "import pandas as pd\n",
    "from sklearn.linear_model import Lasso, LinearRegression\n",
    "from sklearn.preprocessing import StandardScaler"
   ]
  },
  {
   "cell_type": "code",
   "execution_count": 12,
   "metadata": {},
   "outputs": [
    {
     "data": {
      "text/html": [
       "<div>\n",
       "<style scoped>\n",
       "    .dataframe tbody tr th:only-of-type {\n",
       "        vertical-align: middle;\n",
       "    }\n",
       "\n",
       "    .dataframe tbody tr th {\n",
       "        vertical-align: top;\n",
       "    }\n",
       "\n",
       "    .dataframe thead th {\n",
       "        text-align: right;\n",
       "    }\n",
       "</style>\n",
       "<table border=\"1\" class=\"dataframe\">\n",
       "  <thead>\n",
       "    <tr style=\"text-align: right;\">\n",
       "      <th></th>\n",
       "      <th>0</th>\n",
       "      <th>1</th>\n",
       "      <th>2</th>\n",
       "      <th>3</th>\n",
       "      <th>4</th>\n",
       "      <th>5</th>\n",
       "      <th>6</th>\n",
       "    </tr>\n",
       "  </thead>\n",
       "  <tbody>\n",
       "    <tr>\n",
       "      <th>0</th>\n",
       "      <td>1.25664</td>\n",
       "      <td>2.04978</td>\n",
       "      <td>-6.23640</td>\n",
       "      <td>4.71926</td>\n",
       "      <td>-4.26931</td>\n",
       "      <td>0.20590</td>\n",
       "      <td>12.31798</td>\n",
       "    </tr>\n",
       "    <tr>\n",
       "      <th>1</th>\n",
       "      <td>-3.89012</td>\n",
       "      <td>-0.37511</td>\n",
       "      <td>6.14979</td>\n",
       "      <td>4.94585</td>\n",
       "      <td>-3.57844</td>\n",
       "      <td>0.00640</td>\n",
       "      <td>23.67628</td>\n",
       "    </tr>\n",
       "    <tr>\n",
       "      <th>2</th>\n",
       "      <td>5.09784</td>\n",
       "      <td>0.98120</td>\n",
       "      <td>-0.29939</td>\n",
       "      <td>5.85805</td>\n",
       "      <td>0.28297</td>\n",
       "      <td>-0.20626</td>\n",
       "      <td>-1.53459</td>\n",
       "    </tr>\n",
       "    <tr>\n",
       "      <th>3</th>\n",
       "      <td>0.39034</td>\n",
       "      <td>-3.06861</td>\n",
       "      <td>-5.63488</td>\n",
       "      <td>6.43941</td>\n",
       "      <td>0.39256</td>\n",
       "      <td>-0.07084</td>\n",
       "      <td>-24.68670</td>\n",
       "    </tr>\n",
       "    <tr>\n",
       "      <th>4</th>\n",
       "      <td>5.84727</td>\n",
       "      <td>-0.15922</td>\n",
       "      <td>11.41246</td>\n",
       "      <td>7.52165</td>\n",
       "      <td>1.69886</td>\n",
       "      <td>0.29022</td>\n",
       "      <td>17.54122</td>\n",
       "    </tr>\n",
       "  </tbody>\n",
       "</table>\n",
       "</div>"
      ],
      "text/plain": [
       "         0        1         2        3        4        5         6\n",
       "0  1.25664  2.04978  -6.23640  4.71926 -4.26931  0.20590  12.31798\n",
       "1 -3.89012 -0.37511   6.14979  4.94585 -3.57844  0.00640  23.67628\n",
       "2  5.09784  0.98120  -0.29939  5.85805  0.28297 -0.20626  -1.53459\n",
       "3  0.39034 -3.06861  -5.63488  6.43941  0.39256 -0.07084 -24.68670\n",
       "4  5.84727 -0.15922  11.41246  7.52165  1.69886  0.29022  17.54122"
      ]
     },
     "execution_count": 12,
     "metadata": {},
     "output_type": "execute_result"
    }
   ],
   "source": [
    "df = pd.read_csv('datasets/regularisation_dataset2.csv')\n",
    "df.head()"
   ]
  },
  {
   "cell_type": "code",
   "execution_count": 13,
   "metadata": {},
   "outputs": [],
   "source": [
    "# define features and target\n",
    "\n",
    "X = df.iloc[:, :-1].values\n",
    "y = df.iloc[:, -1].values"
   ]
  },
  {
   "cell_type": "code",
   "execution_count": 14,
   "metadata": {},
   "outputs": [],
   "source": [
    "# define scaler and fit-transform X\n",
    "\n",
    "scaler = StandardScaler()\n",
    "X_scaled = scaler.fit_transform(X)"
   ]
  },
  {
   "cell_type": "code",
   "execution_count": 15,
   "metadata": {},
   "outputs": [],
   "source": [
    "# Define and fit Lasso Reg\n",
    "\n",
    "lasso_reg = Lasso().fit(X_scaled, y)"
   ]
  },
  {
   "cell_type": "code",
   "execution_count": 16,
   "metadata": {},
   "outputs": [
    {
     "data": {
      "text/plain": [
       "array([  0.        ,   3.90753617,   9.02575748,  -0.        ,\n",
       "       -11.78303187,   0.45340137])"
      ]
     },
     "execution_count": 16,
     "metadata": {},
     "output_type": "execute_result"
    }
   ],
   "source": [
    "# Inspect coefficients\n",
    "\n",
    "lasso_reg.coef_"
   ]
  },
  {
   "cell_type": "markdown",
   "metadata": {},
   "source": [
    "When the data's been scaled, the first coefficient is still regularized to 0, but now it's the fourth coefficient (and not the sixth coefficient) that gets set to 0. You might want to explore descriptive statistics for the original data to see how the standardization changed each column."
   ]
  },
  {
   "cell_type": "markdown",
   "metadata": {},
   "source": [
    "**Training data BEFORE Standardization**..."
   ]
  },
  {
   "cell_type": "code",
   "execution_count": 18,
   "metadata": {},
   "outputs": [
    {
     "data": {
      "text/html": [
       "<div>\n",
       "<style scoped>\n",
       "    .dataframe tbody tr th:only-of-type {\n",
       "        vertical-align: middle;\n",
       "    }\n",
       "\n",
       "    .dataframe tbody tr th {\n",
       "        vertical-align: top;\n",
       "    }\n",
       "\n",
       "    .dataframe thead th {\n",
       "        text-align: right;\n",
       "    }\n",
       "</style>\n",
       "<table border=\"1\" class=\"dataframe\">\n",
       "  <thead>\n",
       "    <tr style=\"text-align: right;\">\n",
       "      <th></th>\n",
       "      <th>count</th>\n",
       "      <th>mean</th>\n",
       "      <th>std</th>\n",
       "      <th>min</th>\n",
       "      <th>25%</th>\n",
       "      <th>50%</th>\n",
       "      <th>75%</th>\n",
       "      <th>max</th>\n",
       "    </tr>\n",
       "  </thead>\n",
       "  <tbody>\n",
       "    <tr>\n",
       "      <th>0</th>\n",
       "      <td>100.0</td>\n",
       "      <td>-0.076288</td>\n",
       "      <td>5.560089</td>\n",
       "      <td>-12.39824</td>\n",
       "      <td>-3.880408</td>\n",
       "      <td>-0.009940</td>\n",
       "      <td>4.065705</td>\n",
       "      <td>13.37454</td>\n",
       "    </tr>\n",
       "    <tr>\n",
       "      <th>1</th>\n",
       "      <td>100.0</td>\n",
       "      <td>-0.181381</td>\n",
       "      <td>1.737693</td>\n",
       "      <td>-5.28025</td>\n",
       "      <td>-1.222918</td>\n",
       "      <td>-0.278235</td>\n",
       "      <td>1.083133</td>\n",
       "      <td>4.30120</td>\n",
       "    </tr>\n",
       "    <tr>\n",
       "      <th>2</th>\n",
       "      <td>100.0</td>\n",
       "      <td>0.339573</td>\n",
       "      <td>4.982072</td>\n",
       "      <td>-11.23591</td>\n",
       "      <td>-2.833323</td>\n",
       "      <td>-0.072670</td>\n",
       "      <td>3.855920</td>\n",
       "      <td>11.94650</td>\n",
       "    </tr>\n",
       "    <tr>\n",
       "      <th>3</th>\n",
       "      <td>100.0</td>\n",
       "      <td>1.772602</td>\n",
       "      <td>8.163906</td>\n",
       "      <td>-23.82024</td>\n",
       "      <td>-3.383100</td>\n",
       "      <td>0.711860</td>\n",
       "      <td>6.704855</td>\n",
       "      <td>22.88008</td>\n",
       "    </tr>\n",
       "    <tr>\n",
       "      <th>4</th>\n",
       "      <td>100.0</td>\n",
       "      <td>-0.168269</td>\n",
       "      <td>3.184054</td>\n",
       "      <td>-6.86533</td>\n",
       "      <td>-2.731047</td>\n",
       "      <td>-0.120520</td>\n",
       "      <td>2.173942</td>\n",
       "      <td>7.35129</td>\n",
       "    </tr>\n",
       "    <tr>\n",
       "      <th>5</th>\n",
       "      <td>100.0</td>\n",
       "      <td>0.009754</td>\n",
       "      <td>0.183237</td>\n",
       "      <td>-0.63444</td>\n",
       "      <td>-0.099910</td>\n",
       "      <td>0.002385</td>\n",
       "      <td>0.119822</td>\n",
       "      <td>0.52328</td>\n",
       "    </tr>\n",
       "  </tbody>\n",
       "</table>\n",
       "</div>"
      ],
      "text/plain": [
       "   count      mean       std       min       25%       50%       75%       max\n",
       "0  100.0 -0.076288  5.560089 -12.39824 -3.880408 -0.009940  4.065705  13.37454\n",
       "1  100.0 -0.181381  1.737693  -5.28025 -1.222918 -0.278235  1.083133   4.30120\n",
       "2  100.0  0.339573  4.982072 -11.23591 -2.833323 -0.072670  3.855920  11.94650\n",
       "3  100.0  1.772602  8.163906 -23.82024 -3.383100  0.711860  6.704855  22.88008\n",
       "4  100.0 -0.168269  3.184054  -6.86533 -2.731047 -0.120520  2.173942   7.35129\n",
       "5  100.0  0.009754  0.183237  -0.63444 -0.099910  0.002385  0.119822   0.52328"
      ]
     },
     "execution_count": 18,
     "metadata": {},
     "output_type": "execute_result"
    }
   ],
   "source": [
    "df.iloc[:,:-1].describe().T"
   ]
  },
  {
   "cell_type": "markdown",
   "metadata": {},
   "source": [
    "**Training data AFTER Standardization**..."
   ]
  },
  {
   "cell_type": "code",
   "execution_count": 17,
   "metadata": {},
   "outputs": [
    {
     "data": {
      "text/html": [
       "<div>\n",
       "<style scoped>\n",
       "    .dataframe tbody tr th:only-of-type {\n",
       "        vertical-align: middle;\n",
       "    }\n",
       "\n",
       "    .dataframe tbody tr th {\n",
       "        vertical-align: top;\n",
       "    }\n",
       "\n",
       "    .dataframe thead th {\n",
       "        text-align: right;\n",
       "    }\n",
       "</style>\n",
       "<table border=\"1\" class=\"dataframe\">\n",
       "  <thead>\n",
       "    <tr style=\"text-align: right;\">\n",
       "      <th></th>\n",
       "      <th>count</th>\n",
       "      <th>mean</th>\n",
       "      <th>std</th>\n",
       "      <th>min</th>\n",
       "      <th>25%</th>\n",
       "      <th>50%</th>\n",
       "      <th>75%</th>\n",
       "      <th>max</th>\n",
       "    </tr>\n",
       "  </thead>\n",
       "  <tbody>\n",
       "    <tr>\n",
       "      <th>0</th>\n",
       "      <td>100.0</td>\n",
       "      <td>1.942890e-17</td>\n",
       "      <td>1.005038</td>\n",
       "      <td>-2.227307</td>\n",
       "      <td>-0.687630</td>\n",
       "      <td>0.011993</td>\n",
       "      <td>0.748704</td>\n",
       "      <td>2.431362</td>\n",
       "    </tr>\n",
       "    <tr>\n",
       "      <th>1</th>\n",
       "      <td>100.0</td>\n",
       "      <td>6.661338e-18</td>\n",
       "      <td>1.005038</td>\n",
       "      <td>-2.949057</td>\n",
       "      <td>-0.602398</td>\n",
       "      <td>-0.056018</td>\n",
       "      <td>0.731363</td>\n",
       "      <td>2.592612</td>\n",
       "    </tr>\n",
       "    <tr>\n",
       "      <th>2</th>\n",
       "      <td>100.0</td>\n",
       "      <td>6.772360e-17</td>\n",
       "      <td>1.005038</td>\n",
       "      <td>-2.335133</td>\n",
       "      <td>-0.640071</td>\n",
       "      <td>-0.083162</td>\n",
       "      <td>0.709356</td>\n",
       "      <td>2.341476</td>\n",
       "    </tr>\n",
       "    <tr>\n",
       "      <th>3</th>\n",
       "      <td>100.0</td>\n",
       "      <td>5.329071e-17</td>\n",
       "      <td>1.005038</td>\n",
       "      <td>-3.150670</td>\n",
       "      <td>-0.634705</td>\n",
       "      <td>-0.130585</td>\n",
       "      <td>0.607197</td>\n",
       "      <td>2.598488</td>\n",
       "    </tr>\n",
       "    <tr>\n",
       "      <th>4</th>\n",
       "      <td>100.0</td>\n",
       "      <td>-6.716849e-17</td>\n",
       "      <td>1.005038</td>\n",
       "      <td>-2.113909</td>\n",
       "      <td>-0.808934</td>\n",
       "      <td>0.015072</td>\n",
       "      <td>0.739313</td>\n",
       "      <td>2.373528</td>\n",
       "    </tr>\n",
       "    <tr>\n",
       "      <th>5</th>\n",
       "      <td>100.0</td>\n",
       "      <td>-1.776357e-17</td>\n",
       "      <td>1.005038</td>\n",
       "      <td>-3.533335</td>\n",
       "      <td>-0.601493</td>\n",
       "      <td>-0.040416</td>\n",
       "      <td>0.603717</td>\n",
       "      <td>2.816639</td>\n",
       "    </tr>\n",
       "  </tbody>\n",
       "</table>\n",
       "</div>"
      ],
      "text/plain": [
       "   count          mean       std       min       25%       50%       75%  \\\n",
       "0  100.0  1.942890e-17  1.005038 -2.227307 -0.687630  0.011993  0.748704   \n",
       "1  100.0  6.661338e-18  1.005038 -2.949057 -0.602398 -0.056018  0.731363   \n",
       "2  100.0  6.772360e-17  1.005038 -2.335133 -0.640071 -0.083162  0.709356   \n",
       "3  100.0  5.329071e-17  1.005038 -3.150670 -0.634705 -0.130585  0.607197   \n",
       "4  100.0 -6.716849e-17  1.005038 -2.113909 -0.808934  0.015072  0.739313   \n",
       "5  100.0 -1.776357e-17  1.005038 -3.533335 -0.601493 -0.040416  0.603717   \n",
       "\n",
       "        max  \n",
       "0  2.431362  \n",
       "1  2.592612  \n",
       "2  2.341476  \n",
       "3  2.598488  \n",
       "4  2.373528  \n",
       "5  2.816639  "
      ]
     },
     "execution_count": 17,
     "metadata": {},
     "output_type": "execute_result"
    }
   ],
   "source": [
    "pd.DataFrame(X_scaled).describe().T"
   ]
  },
  {
   "cell_type": "code",
   "execution_count": null,
   "metadata": {},
   "outputs": [],
   "source": []
  }
 ],
 "metadata": {
  "kernelspec": {
   "display_name": "Python 3",
   "language": "python",
   "name": "python3"
  },
  "language_info": {
   "codemirror_mode": {
    "name": "ipython",
    "version": 3
   },
   "file_extension": ".py",
   "mimetype": "text/x-python",
   "name": "python",
   "nbconvert_exporter": "python",
   "pygments_lexer": "ipython3",
   "version": "3.7.5"
  }
 },
 "nbformat": 4,
 "nbformat_minor": 4
}
