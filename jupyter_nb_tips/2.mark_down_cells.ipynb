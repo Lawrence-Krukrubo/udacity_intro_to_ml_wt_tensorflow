{
 "cells": [
  {
   "cell_type": "markdown",
   "metadata": {},
   "source": [
    "## Markdown Cells\n",
    "As mentioned before, cells can also be used for text written in Markdown. Markdown is a formatting syntax that allows you to include links, style text as bold or italicized, and format code. As with code cells, you press **Shift + Enter** or **Control + Enter** to run the Markdown cell, where it will render the Markdown to formatted text. Including text allows you to write a narrative alongside your code, as well as documenting your code and the thoughts that went into it.\n",
    "\n",
    "Below is a brief summary of markup concepts. At the bottom of this page, you'll find very good resources to learn and practice markup concepts:"
   ]
  },
  {
   "cell_type": "markdown",
   "metadata": {},
   "source": [
    "_This here is written in italic_\n",
    "\n",
    "__This here is written bold with enclosing dunder signs__\n",
    "\n",
    "**This here is also written bold with enclosing double asterisks**"
   ]
  },
  {
   "cell_type": "markdown",
   "metadata": {},
   "source": [
    "To create a code block, start a new line and wrap the text in three backticks\n",
    "```\n",
    "import requests\n",
    "import random\n",
    "```\n",
    "\n",
    "Or start typing after indenting texts by 4 spaces\n",
    "\n",
    "    import requests\n",
    "    import random"
   ]
  },
  {
   "cell_type": "markdown",
   "metadata": {},
   "source": [
    "### Math expressions\n",
    "You can create math expressions in Markdown cells using [LaTeX symbols](https://www.latex-project.org/). Notebooks use MathJax to render the LaTeX symbols as math symbols. To start math mode, wrap the LaTeX in dollar signs $y = mx + b$ for inline math. For a math block, use double dollar signs,\n",
    "\n",
    "$$\n",
    "y = \\frac{a}{b+c}\n",
    "$$\n",
    "\n",
    "This is a really useful feature, so if you don't have experience with LaTeX, [here is a tutorial](https://www.latex-tutorial.com/) on using it to create math expressions."
   ]
  },
  {
   "cell_type": "markdown",
   "metadata": {},
   "source": [
    "### Markdown Tutorial and Cheatsheet\n",
    "To get a better hands-on practice with markdown text, we recommend you to try this [interactive tutorial](https://commonmark.org/help/tutorial/) on basic markdown concepts. Also, you can bookmark either of the following two cheatsheets:\n",
    "\n",
    "1. [Github Markdown Cheatsheet](https://guides.github.com/pdfs/markdown-cheatsheet-online.pdf)\n",
    "2. [Cheatsheet by Adam Pritchard](https://github.com/adam-p/markdown-here/wiki/Markdown-Cheatsheet)"
   ]
  },
  {
   "cell_type": "code",
   "execution_count": null,
   "metadata": {},
   "outputs": [],
   "source": []
  }
 ],
 "metadata": {
  "kernelspec": {
   "display_name": "Python 3",
   "language": "python",
   "name": "python3"
  },
  "language_info": {
   "codemirror_mode": {
    "name": "ipython",
    "version": 3
   },
   "file_extension": ".py",
   "mimetype": "text/x-python",
   "name": "python",
   "nbconvert_exporter": "python",
   "pygments_lexer": "ipython3",
   "version": "3.8.5"
  }
 },
 "nbformat": 4,
 "nbformat_minor": 4
}
