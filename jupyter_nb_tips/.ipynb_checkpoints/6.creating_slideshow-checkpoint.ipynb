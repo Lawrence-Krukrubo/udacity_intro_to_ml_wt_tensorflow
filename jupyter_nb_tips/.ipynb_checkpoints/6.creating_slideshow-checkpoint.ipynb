{
 "cells": [
  {
   "cell_type": "markdown",
   "metadata": {
    "slideshow": {
     "slide_type": "slide"
    }
   },
   "source": [
    "## Creating a Slideshow\n",
    "Create slideshows from notebooks is one of my favorite features. You can see an example of a [slideshow here](http://nbviewer.jupyter.org/format/slides/github/jorisvandenbossche/2015-PyDataParis/blob/master/pandas_introduction.ipynb#/) introducing pandas for working with data.\n",
    "\n",
    "The slides are created in notebooks like normal, but you'll need to designate which cells are slides and the type of slide the cell will be. In the menu bar, click `View > Cell Toolbar > Slideshow` to bring up the slide cell menu on each cell.\n",
    "\n",
    "This will show a menu dropdown on each cell that lets you choose how the cell shows up in the slideshow."
   ]
  },
  {
   "cell_type": "markdown",
   "metadata": {
    "slideshow": {
     "slide_type": "subslide"
    }
   },
   "source": [
    "#### Slide Types:\n",
    "\n",
    "* __Slides__ are full slides that you move through left to right. \n",
    "* __Sub-slides__ show up in the slideshow by pressing up or down. \n",
    "* __Fragments__ are hidden at first, then appear with a button press. \n",
    "* You can skip cells in the slideshow with __Skip__ and, \n",
    "* **Notes** leaves the cell as speaker notes."
   ]
  },
  {
   "cell_type": "markdown",
   "metadata": {
    "slideshow": {
     "slide_type": "fragment"
    }
   },
   "source": [
    "#### Running the Slideshow\n",
    "\n",
    "To create the slideshow from the notebook file, you'll need to use nbconvert:\n",
    "\n",
    "```\n",
    "jupyter nbconvert notebook.ipynb --to slides\n",
    "```\n",
    "\n",
    "This just converts the notebook to the necessary files for the slideshow, but you need to serve it with an HTTP server to actually see the presentation.\n",
    "\n",
    "To convert it and immediately see it, use\n",
    "\n",
    "```\n",
    "jupyter nbconvert notebook.ipynb --to slides --post serve\n",
    "```"
   ]
  }
 ],
 "metadata": {
  "celltoolbar": "Slideshow",
  "kernelspec": {
   "display_name": "Python 3",
   "language": "python",
   "name": "python3"
  },
  "language_info": {
   "codemirror_mode": {
    "name": "ipython",
    "version": 3
   },
   "file_extension": ".py",
   "mimetype": "text/x-python",
   "name": "python",
   "nbconvert_exporter": "python",
   "pygments_lexer": "ipython3",
   "version": "3.7.5"
  }
 },
 "nbformat": 4,
 "nbformat_minor": 4
}
