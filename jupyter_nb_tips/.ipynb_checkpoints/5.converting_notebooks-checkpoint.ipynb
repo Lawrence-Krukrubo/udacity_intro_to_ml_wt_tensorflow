{
 "cells": [
  {
   "cell_type": "markdown",
   "metadata": {},
   "source": [
    "**Jupyter Notebooks** are just big JSON files with the extension `.ipynb`."
   ]
  },
  {
   "cell_type": "markdown",
   "metadata": {},
   "source": [
    "Since notebooks are `JSON`, it is simple to convert them to other formats. Jupyter comes with a utility called `nbconvert` for converting to `HTML`, `Markdown`, `slideshows`, etc. The general syntax to convert a given `mynotebook.ipynb` file to another FORMAT is:\n",
    "\n",
    "    jupyter nbconvert --to FORMAT mynotebook.ipynb\n",
    "    \n",
    "\n",
    "The currently supported output FORMAT could be either of the following (ignore case):\n",
    "\n",
    "* HTML,\n",
    "* LaTeX,\n",
    "* PDF,\n",
    "* WebPDF,\n",
    "* Reveal.js HTML slideshow,\n",
    "* Markdown,\n",
    "* Ascii,\n",
    "* reStructuredText,\n",
    "* executable script,\n",
    "* notebook.\n",
    "\n",
    "For example, to convert a notebook to an HTML file, in your terminal use\n",
    "\n",
    "```\n",
    "# Install the package below, if not already\n",
    "pip install nbconvert\n",
    "jupyter nbconvert --to html mynotebook.ipynb\n",
    "```"
   ]
  },
  {
   "cell_type": "markdown",
   "metadata": {},
   "source": [
    "Converting to `HTML` is useful for sharing your notebooks with others who aren't using notebooks. `Markdown` is great for including a notebook in blogs and other text editors that accept `Markdown` formatting."
   ]
  },
  {
   "cell_type": "code",
   "execution_count": null,
   "metadata": {},
   "outputs": [],
   "source": []
  },
  {
   "cell_type": "code",
   "execution_count": null,
   "metadata": {},
   "outputs": [],
   "source": []
  }
 ],
 "metadata": {
  "kernelspec": {
   "display_name": "Python 3",
   "language": "python",
   "name": "python3"
  },
  "language_info": {
   "codemirror_mode": {
    "name": "ipython",
    "version": 3
   },
   "file_extension": ".py",
   "mimetype": "text/x-python",
   "name": "python",
   "nbconvert_exporter": "python",
   "pygments_lexer": "ipython3",
   "version": "3.7.5"
  }
 },
 "nbformat": 4,
 "nbformat_minor": 4
}
