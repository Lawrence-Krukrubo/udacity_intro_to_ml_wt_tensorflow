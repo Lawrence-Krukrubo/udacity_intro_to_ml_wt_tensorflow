{
 "cells": [
  {
   "cell_type": "markdown",
   "metadata": {},
   "source": [
    "## Recap\n",
    "In this lesson, you were introduced to linear models. Specifically, you saw:\n",
    "\n",
    "* **`Gradient descent`** as a method to optimize your linear models.\n",
    "* **`Multiple Linear Regression`** as a technique for when you are comparing more than two variables.\n",
    "* **`Polynomial Regression`** for relationships between variables that aren't linear.\n",
    "* **`Regularization`** as a technique to assure that your models will not only fit to the data available, but also extend to new situations.\n",
    "\n",
    "### Outro\n",
    "In the prevous notebooks, you were predicting quantitative values. Predicting quantitative values is often just considered a **Regression** problem. In the next lesson, you will be introduced to predicting a category, which is called a **Classification** problem."
   ]
  },
  {
   "cell_type": "code",
   "execution_count": null,
   "metadata": {},
   "outputs": [],
   "source": []
  }
 ],
 "metadata": {
  "kernelspec": {
   "display_name": "Python 3",
   "language": "python",
   "name": "python3"
  },
  "language_info": {
   "codemirror_mode": {
    "name": "ipython",
    "version": 3
   },
   "file_extension": ".py",
   "mimetype": "text/x-python",
   "name": "python",
   "nbconvert_exporter": "python",
   "pygments_lexer": "ipython3",
   "version": "3.7.5"
  }
 },
 "nbformat": 4,
 "nbformat_minor": 4
}
